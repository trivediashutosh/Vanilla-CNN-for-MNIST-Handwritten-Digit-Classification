{
  "nbformat": 4,
  "nbformat_minor": 0,
  "metadata": {
    "colab": {
      "name": "github_(CNN).ipynb",
      "provenance": [],
      "collapsed_sections": []
    },
    "kernelspec": {
      "name": "python3",
      "display_name": "Python 3"
    },
    "language_info": {
      "name": "python"
    },
    "accelerator": "GPU"
  },
  "cells": [
    {
      "cell_type": "markdown",
      "metadata": {
        "id": "C_KOlzzuDXtt"
      },
      "source": [
        "## Importing Libraries"
      ]
    },
    {
      "cell_type": "code",
      "metadata": {
        "id": "0aB4wbH8VgNs"
      },
      "source": [
        "import gzip\n",
        "import numpy as np\n",
        "from keras.models import Sequential\n",
        "from keras.layers import Conv2D, MaxPooling2D\n",
        "from keras.layers import Flatten, Dense, BatchNormalization\n",
        "from keras.optimizers import SGD\n",
        "from keras.wrappers.scikit_learn import KerasClassifier\n",
        "from sklearn.model_selection import GridSearchCV\n",
        "from keras.utils import to_categorical\n",
        "from keras.preprocessing.image import ImageDataGenerator\n",
        "import pandas as pd\n",
        "import seaborn as sns\n",
        "from sklearn.metrics import accuracy_score,precision_score,recall_score,f1_score,confusion_matrix"
      ],
      "execution_count": null,
      "outputs": []
    },
    {
      "cell_type": "markdown",
      "metadata": {
        "id": "ZZ0Vmcbl0f0Z"
      },
      "source": [
        "## Loading Dataset"
      ]
    },
    {
      "cell_type": "code",
      "metadata": {
        "id": "XgNnej7fysE0"
      },
      "source": [
        "train_imgs = gzip.open('train-images-idx3-ubyte.gz','r') \n",
        "train_label = gzip.open('train-labels-idx1-ubyte.gz','r') \n",
        "\n",
        "test_imgs = gzip.open('t10k-images-idx3-ubyte.gz' ,'r') \n",
        "test_label = gzip.open('t10k-labels-idx1-ubyte.gz' ,'r') "
      ],
      "execution_count": null,
      "outputs": []
    },
    {
      "cell_type": "code",
      "metadata": {
        "id": "MJNneG2pysCQ"
      },
      "source": [
        "image_size = 28\n",
        "train_images = 60000\n",
        "test_images = 10000\n",
        "# Train Test Split\n",
        "train_imgs.read(16)\n",
        "buf_train = train_imgs.read(image_size * image_size * train_images)\n",
        "X_train = np.frombuffer(buf_train, dtype=np.uint8).astype(np.float32)\n",
        "X_train = X_train.reshape( train_images, image_size, image_size, 1)\n",
        "\n",
        "test_imgs.read(16)\n",
        "buf_test = test_imgs.read(image_size * image_size * test_images)\n",
        "X_test = np.frombuffer(buf_test, dtype=np.uint8).astype(np.float32)\n",
        "X_test = X_test.reshape( test_images, image_size, image_size, 1)"
      ],
      "execution_count": null,
      "outputs": []
    },
    {
      "cell_type": "code",
      "metadata": {
        "id": "UJawzQJrv105"
      },
      "source": [
        "X_train = X_train/255\n",
        "X_test = X_test/255"
      ],
      "execution_count": null,
      "outputs": []
    },
    {
      "cell_type": "code",
      "metadata": {
        "id": "LjZQsyjayr8O"
      },
      "source": [
        "train_label.read(8)\n",
        "y_train1 = []\n",
        "for i in range(0,60000):   \n",
        "    buf_train_label = train_label.read(1)\n",
        "    labels = np.frombuffer(buf_train_label, dtype=np.uint8).astype(np.int64)\n",
        "    y_train1.append(labels)\n",
        "    \n",
        "test_label.read(8)\n",
        "y_test1 = []\n",
        "for i in range(0,10000):   \n",
        "    buf_test_label = test_label.read(1)\n",
        "    labels = np.frombuffer(buf_test_label, dtype=np.uint8).astype(np.int64)\n",
        "    y_test1.append(labels)\n",
        "    \n",
        "y_train1 = np.array(y_train1)\n",
        "y_test1 = np.array(y_test1)"
      ],
      "execution_count": null,
      "outputs": []
    },
    {
      "cell_type": "code",
      "metadata": {
        "id": "CzNxHNlGo_EM"
      },
      "source": [
        "y_train = to_categorical(y_train1)\n",
        "y_test = to_categorical(y_test1)"
      ],
      "execution_count": null,
      "outputs": []
    },
    {
      "cell_type": "code",
      "metadata": {
        "id": "-PYWhUmE9RFg",
        "colab": {
          "base_uri": "https://localhost:8080/",
          "height": 265
        },
        "outputId": "5de2e37b-72d4-4d61-fd33-155d25245905"
      },
      "source": [
        "import matplotlib.pyplot as plt\n",
        "image = np.asarray(X_train[1]).squeeze()\n",
        "plt.imshow(image)\n",
        "plt.show()"
      ],
      "execution_count": null,
      "outputs": [
        {
          "output_type": "display_data",
          "data": {
            "image/png": "[encoded data removed]",
            "text/plain": [
              "<Figure size 432x288 with 1 Axes>"
            ]
          },
          "metadata": {
            "tags": [],
            "needs_background": "light"
          }
        }
      ]
    },
    {
      "cell_type": "markdown",
      "metadata": {
        "id": "EexplfWLgAyj"
      },
      "source": [
        "## CNN with gridsearch for hyperparameter tuning"
      ]
    },
    {
      "cell_type": "code",
      "metadata": {
        "id": "GquQJJOh2WrR"
      },
      "source": [
        "def define_model(neurons=64,conv_filter=32,learn_rate=0.01,optimizer='Adam'):\n",
        "  model = Sequential()\n",
        "  model.add(Conv2D(conv_filter,(3, 3),activation='relu',kernel_initializer='he_uniform',input_shape=(28, 28, 1)))\n",
        "  model.add(BatchNormalization())\n",
        "  model.add(MaxPooling2D((2, 2)))\n",
        " \n",
        "  model.add(Flatten()) \n",
        "  model.add(Dense(neurons, activation='relu', kernel_initializer='he_uniform'))\n",
        "  model.add(Dense(10, activation='softmax'))\n",
        "\n",
        "  # compile model\n",
        "  loss_fn='categorical_crossentropy'\n",
        "  if optimizer=='Adam':\n",
        "    opt = keras.optimizers.Adam(learning_rate=learn_rate)\n",
        "    model.compile(optimizer=opt, loss=loss_fn, metrics=['accuracy'])\n",
        "  else:\n",
        "    opt = SGD(lr=learn_rate)\n",
        "    model.compile(optimizer=opt, loss=loss_fn, metrics=['accuracy'])\n",
        "  return model"
      ],
      "execution_count": null,
      "outputs": []
    },
    {
      "cell_type": "code",
      "metadata": {
        "colab": {
          "base_uri": "https://localhost:8080/"
        },
        "id": "xep871zA2cyT",
        "outputId": "d1286e24-43b7-4760-904e-622001db6303"
      },
      "source": [
        "# create model\n",
        "model = KerasClassifier(build_fn=define_model, verbose=0)\n",
        "\n",
        "# define the grid search parameters\n",
        "batch_size = [64, 112]\n",
        "epochs = [30, 40]\n",
        "optimizer = ['SGD', 'Adam'] \n",
        "learn_rate = [0.001, 0.01]\n",
        "neurons= [64,128]\n",
        "conv_filter = [32,64]\n",
        "\n",
        "param_grid = dict(batch_size=batch_size, epochs=epochs,learn_rate=learn_rate,neurons=neurons,optimizer=optimizer,conv_filter=conv_filter)\n",
        "grid = GridSearchCV(estimator=model, param_grid=param_grid, n_jobs=-1, cv=3)\n",
        "grid_result = grid.fit(X_train,y_train, validation_split=0.1, verbose=1)"
      ],
      "execution_count": null,
      "outputs": [
        {
          "output_type": "stream",
          "text": [
            "/usr/local/lib/python3.7/dist-packages/joblib/externals/loky/process_executor.py:691: UserWarning: A worker stopped while some jobs were given to the executor. This can be caused by a too short worker timeout or by a memory leak.\n",
            "  \"timeout or by a memory leak.\", UserWarning\n"
          ],
          "name": "stderr"
        },
        {
          "output_type": "stream",
          "text": [
            "Epoch 1/40\n",
            "844/844 [==============================] - 7s 5ms/step - loss: 0.3315 - accuracy: 0.9020 - val_loss: 0.0667 - val_accuracy: 0.9827\n",
            "Epoch 2/40\n",
            "844/844 [==============================] - 4s 4ms/step - loss: 0.0626 - accuracy: 0.9815 - val_loss: 0.0647 - val_accuracy: 0.9822\n",
            "Epoch 3/40\n",
            "844/844 [==============================] - 4s 4ms/step - loss: 0.0368 - accuracy: 0.9897 - val_loss: 0.0525 - val_accuracy: 0.9853\n",
            "Epoch 4/40\n",
            "844/844 [==============================] - 4s 4ms/step - loss: 0.0251 - accuracy: 0.9938 - val_loss: 0.0487 - val_accuracy: 0.9860\n",
            "Epoch 5/40\n",
            "844/844 [==============================] - 4s 4ms/step - loss: 0.0164 - accuracy: 0.9973 - val_loss: 0.0478 - val_accuracy: 0.9868\n",
            "Epoch 6/40\n",
            "844/844 [==============================] - 4s 4ms/step - loss: 0.0119 - accuracy: 0.9980 - val_loss: 0.0478 - val_accuracy: 0.9858\n",
            "Epoch 7/40\n",
            "844/844 [==============================] - 4s 4ms/step - loss: 0.0089 - accuracy: 0.9989 - val_loss: 0.0475 - val_accuracy: 0.9865\n",
            "Epoch 8/40\n",
            "844/844 [==============================] - 4s 4ms/step - loss: 0.0071 - accuracy: 0.9991 - val_loss: 0.0438 - val_accuracy: 0.9873\n",
            "Epoch 9/40\n",
            "844/844 [==============================] - 4s 4ms/step - loss: 0.0055 - accuracy: 0.9996 - val_loss: 0.0454 - val_accuracy: 0.9867\n",
            "Epoch 10/40\n",
            "844/844 [==============================] - 4s 4ms/step - loss: 0.0044 - accuracy: 0.9999 - val_loss: 0.0449 - val_accuracy: 0.9877\n",
            "Epoch 11/40\n",
            "844/844 [==============================] - 4s 4ms/step - loss: 0.0039 - accuracy: 0.9999 - val_loss: 0.0449 - val_accuracy: 0.9882\n",
            "Epoch 12/40\n",
            "844/844 [==============================] - 4s 4ms/step - loss: 0.0031 - accuracy: 1.0000 - val_loss: 0.0451 - val_accuracy: 0.9882\n",
            "Epoch 13/40\n",
            "844/844 [==============================] - 4s 4ms/step - loss: 0.0028 - accuracy: 1.0000 - val_loss: 0.0446 - val_accuracy: 0.9883\n",
            "Epoch 14/40\n",
            "844/844 [==============================] - 4s 4ms/step - loss: 0.0024 - accuracy: 1.0000 - val_loss: 0.0453 - val_accuracy: 0.9878\n",
            "Epoch 15/40\n",
            "844/844 [==============================] - 4s 4ms/step - loss: 0.0023 - accuracy: 1.0000 - val_loss: 0.0449 - val_accuracy: 0.9878\n",
            "Epoch 16/40\n",
            "844/844 [==============================] - 4s 4ms/step - loss: 0.0021 - accuracy: 1.0000 - val_loss: 0.0453 - val_accuracy: 0.9878\n",
            "Epoch 17/40\n",
            "844/844 [==============================] - 4s 4ms/step - loss: 0.0019 - accuracy: 1.0000 - val_loss: 0.0460 - val_accuracy: 0.9882\n",
            "Epoch 18/40\n",
            "844/844 [==============================] - 4s 4ms/step - loss: 0.0018 - accuracy: 1.0000 - val_loss: 0.0463 - val_accuracy: 0.9882\n",
            "Epoch 19/40\n",
            "844/844 [==============================] - 4s 4ms/step - loss: 0.0016 - accuracy: 1.0000 - val_loss: 0.0452 - val_accuracy: 0.9885\n",
            "Epoch 20/40\n",
            "844/844 [==============================] - 4s 4ms/step - loss: 0.0014 - accuracy: 1.0000 - val_loss: 0.0453 - val_accuracy: 0.9887\n",
            "Epoch 21/40\n",
            "844/844 [==============================] - 4s 4ms/step - loss: 0.0015 - accuracy: 1.0000 - val_loss: 0.0461 - val_accuracy: 0.9878\n",
            "Epoch 22/40\n",
            "844/844 [==============================] - 4s 4ms/step - loss: 0.0013 - accuracy: 1.0000 - val_loss: 0.0461 - val_accuracy: 0.9885\n",
            "Epoch 23/40\n",
            "844/844 [==============================] - 4s 4ms/step - loss: 0.0012 - accuracy: 1.0000 - val_loss: 0.0460 - val_accuracy: 0.9885\n",
            "Epoch 24/40\n",
            "844/844 [==============================] - 4s 4ms/step - loss: 0.0012 - accuracy: 1.0000 - val_loss: 0.0460 - val_accuracy: 0.9883\n",
            "Epoch 25/40\n",
            "844/844 [==============================] - 4s 4ms/step - loss: 0.0011 - accuracy: 1.0000 - val_loss: 0.0462 - val_accuracy: 0.9882\n",
            "Epoch 26/40\n",
            "844/844 [==============================] - 4s 4ms/step - loss: 0.0011 - accuracy: 1.0000 - val_loss: 0.0464 - val_accuracy: 0.9882\n",
            "Epoch 27/40\n",
            "844/844 [==============================] - 4s 4ms/step - loss: 0.0010 - accuracy: 1.0000 - val_loss: 0.0465 - val_accuracy: 0.9883\n",
            "Epoch 28/40\n",
            "844/844 [==============================] - 4s 4ms/step - loss: 9.5950e-04 - accuracy: 1.0000 - val_loss: 0.0465 - val_accuracy: 0.9883\n",
            "Epoch 29/40\n",
            "844/844 [==============================] - 4s 4ms/step - loss: 9.2618e-04 - accuracy: 1.0000 - val_loss: 0.0469 - val_accuracy: 0.9882\n",
            "Epoch 30/40\n",
            "844/844 [==============================] - 4s 4ms/step - loss: 8.7054e-04 - accuracy: 1.0000 - val_loss: 0.0472 - val_accuracy: 0.9888\n",
            "Epoch 31/40\n",
            "844/844 [==============================] - 4s 4ms/step - loss: 8.2891e-04 - accuracy: 1.0000 - val_loss: 0.0466 - val_accuracy: 0.9883\n",
            "Epoch 32/40\n",
            "844/844 [==============================] - 4s 4ms/step - loss: 7.9716e-04 - accuracy: 1.0000 - val_loss: 0.0468 - val_accuracy: 0.9883\n",
            "Epoch 33/40\n",
            "844/844 [==============================] - 4s 4ms/step - loss: 8.1835e-04 - accuracy: 1.0000 - val_loss: 0.0471 - val_accuracy: 0.9883\n",
            "Epoch 34/40\n",
            "844/844 [==============================] - 4s 4ms/step - loss: 7.4334e-04 - accuracy: 1.0000 - val_loss: 0.0469 - val_accuracy: 0.9882\n",
            "Epoch 35/40\n",
            "844/844 [==============================] - 4s 4ms/step - loss: 7.3976e-04 - accuracy: 1.0000 - val_loss: 0.0473 - val_accuracy: 0.9885\n",
            "Epoch 36/40\n",
            "844/844 [==============================] - 4s 4ms/step - loss: 7.3206e-04 - accuracy: 1.0000 - val_loss: 0.0475 - val_accuracy: 0.9888\n",
            "Epoch 37/40\n",
            "844/844 [==============================] - 4s 4ms/step - loss: 6.8679e-04 - accuracy: 1.0000 - val_loss: 0.0482 - val_accuracy: 0.9883\n",
            "Epoch 38/40\n",
            "844/844 [==============================] - 4s 4ms/step - loss: 6.6620e-04 - accuracy: 1.0000 - val_loss: 0.0471 - val_accuracy: 0.9885\n",
            "Epoch 39/40\n",
            "844/844 [==============================] - 4s 4ms/step - loss: 6.7490e-04 - accuracy: 1.0000 - val_loss: 0.0476 - val_accuracy: 0.9887\n",
            "Epoch 40/40\n",
            "844/844 [==============================] - 4s 4ms/step - loss: 6.3490e-04 - accuracy: 1.0000 - val_loss: 0.0477 - val_accuracy: 0.9885\n"
          ],
          "name": "stdout"
        }
      ]
    },
    {
      "cell_type": "code",
      "metadata": {
        "id": "-qE66zbYFTXA"
      },
      "source": [
        "#data augmentation \n",
        "datagen = ImageDataGenerator(\n",
        "        rotation_range=40,\n",
        "        width_shift_range=0.2,\n",
        "        height_shift_range=0.2,\n",
        "        horizontal_flip=True,\n",
        "        validation_split=0.1) \n",
        "\n",
        "datagen.fit(X_train)"
      ],
      "execution_count": null,
      "outputs": []
    },
    {
      "cell_type": "markdown",
      "metadata": {
        "id": "M0f5gs9CydZp"
      },
      "source": [
        "## CNN Model with Data Augmentation from gridsearch"
      ]
    },
    {
      "cell_type": "code",
      "metadata": {
        "id": "tASaoWAgfCaf"
      },
      "source": [
        "# optimize parameters of the fit method \n",
        "cnn_model = define_model(neurons = grid_result.best_params_['neurons'],\n",
        "                          learn_rate = grid_result.best_params_['learn_rate'],\n",
        "                          optimizer = grid_result.best_params_['optimizer'],\n",
        "                          conv_filter = grid_result.best_params_['conv_filter'])\n"
      ],
      "execution_count": null,
      "outputs": []
    },
    {
      "cell_type": "code",
      "metadata": {
        "colab": {
          "base_uri": "https://localhost:8080/"
        },
        "id": "zz3ucLWVF0n2",
        "outputId": "1473aee6-2a76-452f-82ff-e8bd53c03dcb"
      },
      "source": [
        "history = cnn_model.fit_generator(datagen.flow(X_train,y_train, batch_size=grid_result.best_params_['batch_size'], subset='training'),\n",
        "                                  epochs = grid_result.best_params_['epochs'], \n",
        "                                  validation_data =datagen.flow(X_train, y_train, batch_size=grid_result.best_params_['batch_size'], subset='validation'),\n",
        "                                  verbose = 1)    "
      ],
      "execution_count": null,
      "outputs": [
        {
          "output_type": "stream",
          "text": [
            "/usr/local/lib/python3.7/dist-packages/tensorflow/python/keras/engine/training.py:1844: UserWarning: `Model.fit_generator` is deprecated and will be removed in a future version. Please use `Model.fit`, which supports generators.\n",
            "  warnings.warn('`Model.fit_generator` is deprecated and '\n"
          ],
          "name": "stderr"
        },
        {
          "output_type": "stream",
          "text": [
            "Epoch 1/40\n",
            "844/844 [==============================] - 15s 17ms/step - loss: 1.5158 - accuracy: 0.4918 - val_loss: 0.8135 - val_accuracy: 0.7437\n",
            "Epoch 2/40\n",
            "844/844 [==============================] - 14s 17ms/step - loss: 0.7592 - accuracy: 0.7558 - val_loss: 0.6235 - val_accuracy: 0.8005\n",
            "Epoch 3/40\n",
            "844/844 [==============================] - 14s 17ms/step - loss: 0.6042 - accuracy: 0.8050 - val_loss: 0.5184 - val_accuracy: 0.8347\n",
            "Epoch 4/40\n",
            "844/844 [==============================] - 14s 17ms/step - loss: 0.5094 - accuracy: 0.8356 - val_loss: 0.4750 - val_accuracy: 0.8517\n",
            "Epoch 5/40\n",
            "844/844 [==============================] - 14s 17ms/step - loss: 0.4760 - accuracy: 0.8461 - val_loss: 0.4235 - val_accuracy: 0.8670\n",
            "Epoch 6/40\n",
            "844/844 [==============================] - 14s 17ms/step - loss: 0.4377 - accuracy: 0.8596 - val_loss: 0.3922 - val_accuracy: 0.8682\n",
            "Epoch 7/40\n",
            "844/844 [==============================] - 15s 17ms/step - loss: 0.4084 - accuracy: 0.8695 - val_loss: 0.3997 - val_accuracy: 0.8722\n",
            "Epoch 8/40\n",
            "844/844 [==============================] - 15s 18ms/step - loss: 0.3806 - accuracy: 0.8796 - val_loss: 0.3530 - val_accuracy: 0.8903\n",
            "Epoch 9/40\n",
            "844/844 [==============================] - 14s 17ms/step - loss: 0.3599 - accuracy: 0.8830 - val_loss: 0.3522 - val_accuracy: 0.8872\n",
            "Epoch 10/40\n",
            "844/844 [==============================] - 14s 17ms/step - loss: 0.3483 - accuracy: 0.8894 - val_loss: 0.3343 - val_accuracy: 0.8945\n",
            "Epoch 11/40\n",
            "844/844 [==============================] - 14s 17ms/step - loss: 0.3346 - accuracy: 0.8952 - val_loss: 0.3747 - val_accuracy: 0.8795\n",
            "Epoch 12/40\n",
            "844/844 [==============================] - 14s 17ms/step - loss: 0.3189 - accuracy: 0.8975 - val_loss: 0.3209 - val_accuracy: 0.8980\n",
            "Epoch 13/40\n",
            "844/844 [==============================] - 15s 17ms/step - loss: 0.3128 - accuracy: 0.8992 - val_loss: 0.3105 - val_accuracy: 0.9062\n",
            "Epoch 14/40\n",
            "844/844 [==============================] - 14s 17ms/step - loss: 0.3046 - accuracy: 0.9049 - val_loss: 0.2946 - val_accuracy: 0.9095\n",
            "Epoch 15/40\n",
            "844/844 [==============================] - 14s 17ms/step - loss: 0.2891 - accuracy: 0.9111 - val_loss: 0.2799 - val_accuracy: 0.9113\n",
            "Epoch 16/40\n",
            "844/844 [==============================] - 14s 17ms/step - loss: 0.2858 - accuracy: 0.9106 - val_loss: 0.2619 - val_accuracy: 0.9192\n",
            "Epoch 17/40\n",
            "844/844 [==============================] - 14s 17ms/step - loss: 0.2736 - accuracy: 0.9147 - val_loss: 0.2725 - val_accuracy: 0.9162\n",
            "Epoch 18/40\n",
            "844/844 [==============================] - 14s 17ms/step - loss: 0.2744 - accuracy: 0.9137 - val_loss: 0.2705 - val_accuracy: 0.9167\n",
            "Epoch 19/40\n",
            "844/844 [==============================] - 15s 17ms/step - loss: 0.2656 - accuracy: 0.9171 - val_loss: 0.2779 - val_accuracy: 0.9157\n",
            "Epoch 20/40\n",
            "844/844 [==============================] - 15s 17ms/step - loss: 0.2538 - accuracy: 0.9208 - val_loss: 0.2631 - val_accuracy: 0.9173\n",
            "Epoch 21/40\n",
            "844/844 [==============================] - 14s 17ms/step - loss: 0.2566 - accuracy: 0.9190 - val_loss: 0.2848 - val_accuracy: 0.9105\n",
            "Epoch 22/40\n",
            "844/844 [==============================] - 14s 17ms/step - loss: 0.2591 - accuracy: 0.9180 - val_loss: 0.2462 - val_accuracy: 0.9252\n",
            "Epoch 23/40\n",
            "844/844 [==============================] - 15s 17ms/step - loss: 0.2600 - accuracy: 0.9183 - val_loss: 0.2361 - val_accuracy: 0.9260\n",
            "Epoch 24/40\n",
            "844/844 [==============================] - 14s 17ms/step - loss: 0.2451 - accuracy: 0.9235 - val_loss: 0.2538 - val_accuracy: 0.9230\n",
            "Epoch 25/40\n",
            "844/844 [==============================] - 15s 17ms/step - loss: 0.2411 - accuracy: 0.9233 - val_loss: 0.2340 - val_accuracy: 0.9242\n",
            "Epoch 26/40\n",
            "844/844 [==============================] - 14s 17ms/step - loss: 0.2407 - accuracy: 0.9235 - val_loss: 0.2429 - val_accuracy: 0.9213\n",
            "Epoch 27/40\n",
            "844/844 [==============================] - 14s 17ms/step - loss: 0.2428 - accuracy: 0.9241 - val_loss: 0.2302 - val_accuracy: 0.9305\n",
            "Epoch 28/40\n",
            "844/844 [==============================] - 15s 17ms/step - loss: 0.2331 - accuracy: 0.9269 - val_loss: 0.2541 - val_accuracy: 0.9208\n",
            "Epoch 29/40\n",
            "844/844 [==============================] - 14s 17ms/step - loss: 0.2281 - accuracy: 0.9265 - val_loss: 0.2517 - val_accuracy: 0.9237\n",
            "Epoch 30/40\n",
            "844/844 [==============================] - 14s 17ms/step - loss: 0.2283 - accuracy: 0.9291 - val_loss: 0.2193 - val_accuracy: 0.9317\n",
            "Epoch 31/40\n",
            "844/844 [==============================] - 14s 17ms/step - loss: 0.2216 - accuracy: 0.9318 - val_loss: 0.2358 - val_accuracy: 0.9257\n",
            "Epoch 32/40\n",
            "844/844 [==============================] - 14s 17ms/step - loss: 0.2146 - accuracy: 0.9321 - val_loss: 0.2197 - val_accuracy: 0.9308\n",
            "Epoch 33/40\n",
            "844/844 [==============================] - 14s 17ms/step - loss: 0.2165 - accuracy: 0.9348 - val_loss: 0.2175 - val_accuracy: 0.9307\n",
            "Epoch 34/40\n",
            "844/844 [==============================] - 15s 17ms/step - loss: 0.2160 - accuracy: 0.9348 - val_loss: 0.2204 - val_accuracy: 0.9292\n",
            "Epoch 35/40\n",
            "844/844 [==============================] - 14s 17ms/step - loss: 0.2226 - accuracy: 0.9322 - val_loss: 0.2163 - val_accuracy: 0.9320\n",
            "Epoch 36/40\n",
            "844/844 [==============================] - 15s 17ms/step - loss: 0.2048 - accuracy: 0.9352 - val_loss: 0.2062 - val_accuracy: 0.9348\n",
            "Epoch 37/40\n",
            "844/844 [==============================] - 15s 18ms/step - loss: 0.2072 - accuracy: 0.9338 - val_loss: 0.2066 - val_accuracy: 0.9380\n",
            "Epoch 38/40\n",
            "844/844 [==============================] - 14s 17ms/step - loss: 0.2016 - accuracy: 0.9359 - val_loss: 0.2015 - val_accuracy: 0.9373\n",
            "Epoch 39/40\n",
            "844/844 [==============================] - 16s 19ms/step - loss: 0.2054 - accuracy: 0.9352 - val_loss: 0.2079 - val_accuracy: 0.9353\n",
            "Epoch 40/40\n",
            "844/844 [==============================] - 16s 19ms/step - loss: 0.2091 - accuracy: 0.9361 - val_loss: 0.2671 - val_accuracy: 0.9225\n"
          ],
          "name": "stdout"
        }
      ]
    },
    {
      "cell_type": "code",
      "metadata": {
        "colab": {
          "base_uri": "https://localhost:8080/",
          "height": 267
        },
        "id": "BP6KFJLLGAeE",
        "outputId": "7e5a3d61-e049-4f7f-c8fc-897958af6a07"
      },
      "source": [
        "# ploting accuracy on training as well as on validation data\n",
        "df_history = pd.DataFrame(history.history)\n",
        "sns.lineplot(data=df_history[['accuracy','val_accuracy']], palette=\"tab10\", linewidth=2.5);"
      ],
      "execution_count": null,
      "outputs": [
        {
          "output_type": "display_data",
          "data": {
            "image/png": "[encoded data removed]",
            "text/plain": [
              "<Figure size 432x288 with 1 Axes>"
            ]
          },
          "metadata": {
            "tags": [],
            "needs_background": "light"
          }
        }
      ]
    },
    {
      "cell_type": "code",
      "metadata": {
        "id": "hYCY9MDjTh5J"
      },
      "source": [
        "# predict classes for test set\n",
        "yhat = cnn_model.predict(X_test) "
      ],
      "execution_count": null,
      "outputs": []
    },
    {
      "cell_type": "code",
      "metadata": {
        "colab": {
          "base_uri": "https://localhost:8080/"
        },
        "id": "QKMRggG1fCSV",
        "outputId": "a0948e70-a894-4a84-be2f-a296c15b9ec2"
      },
      "source": [
        "ypred = np.argmax(yhat,axis=1)\n",
        "ytest = np.argmax(y_test,axis=1)\n",
        "\n",
        "accuracy = accuracy_score(ytest, ypred)\n",
        "print('Accuracy: %f' % accuracy)\n",
        "\n",
        "precision = precision_score(ytest, ypred,average='macro')\n",
        "#precision = precision_score(ytest, ypred,pos_label='positive',average='micro')\n",
        "print('Precision: %f' % precision)\n",
        "\n",
        "recall = recall_score(ytest, ypred, pos_label='positive',average='macro')\n",
        "print('Recall: %f' % recall)\n",
        "\n",
        "f1 = f1_score(ytest, ypred, pos_label='positive',average='macro')\n",
        "print('F1 score: %f' % f1)\n",
        "\n",
        "conf_matrix = confusion_matrix(ytest, ypred)\n",
        "print('Confusion Matrix: \\n')\n",
        "print(conf_matrix)"
      ],
      "execution_count": null,
      "outputs": [
        {
          "output_type": "stream",
          "text": [
            "Accuracy: 0.935600\n",
            "Precision: 0.935936\n",
            "Recall: 0.936308\n",
            "F1 score: 0.935285\n",
            "Confusion Matrix: \n",
            "\n",
            "[[ 963    0    1    0    1    4    1    1    2    7]\n",
            " [   8 1040    4    2   27    2    6   12   31    3]\n",
            " [   1    0  890   25   16   60   24    5    8    3]\n",
            " [   0    0    4  975    0   26    0    1    2    2]\n",
            " [   0    0    1    1  918    2    1    0   14   45]\n",
            " [   1    0   16   29    0  826    8    1    5    6]\n",
            " [   6    0   11    5    5    9  916    0    5    1]\n",
            " [   1    0   22    4    7   14    0  919   12   49]\n",
            " [   1    0    6    4    3    9    2    1  939    9]\n",
            " [   1    0    4    6    4    6    0    7   11  970]]\n"
          ],
          "name": "stdout"
        },
        {
          "output_type": "stream",
          "text": [
            "/usr/local/lib/python3.7/dist-packages/sklearn/metrics/_classification.py:1321: UserWarning: Note that pos_label (set to 'positive') is ignored when average != 'binary' (got 'macro'). You may use labels=[pos_label] to specify a single positive class.\n",
            "  % (pos_label, average), UserWarning)\n"
          ],
          "name": "stderr"
        }
      ]
    }
  ]
}